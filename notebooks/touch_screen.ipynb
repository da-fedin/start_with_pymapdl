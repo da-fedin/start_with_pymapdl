{
 "cells": [
  {
   "cell_type": "markdown",
   "id": "5ad7ee62-65ff-430b-9f85-7211c845ebf4",
   "metadata": {},
   "source": [
    "# Touch Screen Example Model\n",
    "\n",
    "## Run one mapdl instance to build touch screen model and write node coordinates to file "
   ]
  },
  {
   "cell_type": "markdown",
   "id": "ffed3ca99005d63b",
   "metadata": {},
   "source": [
    "Make imports"
   ]
  },
  {
   "cell_type": "code",
   "execution_count": null,
   "id": "e0676afe-6942-4c49-a1f1-648428322bec",
   "metadata": {
    "ExecuteTime": {
     "end_time": "2024-06-08T12:51:43.124656Z",
     "start_time": "2024-06-08T12:51:42.220083Z"
    }
   },
   "outputs": [],
   "source": [
    "from ansys.mapdl.core import launch_mapdl\n",
    "import os\n",
    "\n",
    "# For quite exiting on error\n",
    "from commons import StopExecution\n",
    "\n",
    "# To mute annoying warnings in notebook\n",
    "import warnings\n",
    "\n",
    "# Implement warning muting\n",
    "warnings.filterwarnings(\"ignore\")"
   ]
  },
  {
   "cell_type": "markdown",
   "id": "6ccee96c82cee835",
   "metadata": {},
   "source": [
    "Run MAPDL instance"
   ]
  },
  {
   "cell_type": "code",
   "execution_count": null,
   "id": "b3ecaa74-5b0a-4c9a-bb6d-affb9d9b9197",
   "metadata": {
    "ExecuteTime": {
     "end_time": "2024-06-08T12:51:45.468275Z",
     "start_time": "2024-06-08T12:51:43.124656Z"
    }
   },
   "outputs": [],
   "source": [
    "try:\n",
    "    mapdl = launch_mapdl(\n",
    "        remove_temp_dir_on_exit=True, additional_switches=\"-smp\", nproc=2\n",
    "    )\n",
    "except Exception:\n",
    "    print(\"No MAPDL found. Terminating...\")\n",
    "\n",
    "    raise StopExecution"
   ]
  },
  {
   "cell_type": "markdown",
   "id": "e22a317188c3594d",
   "metadata": {},
   "source": [
    "Define position of sensors"
   ]
  },
  {
   "cell_type": "code",
   "execution_count": null,
   "id": "ec4559d413cab95f",
   "metadata": {
    "ExecuteTime": {
     "end_time": "2024-06-08T12:51:45.477292Z",
     "start_time": "2024-06-08T12:51:45.468434Z"
    }
   },
   "outputs": [],
   "source": [
    "Length_Inches = 4.5\n",
    "Height_Inches = 2\n",
    "\n",
    "sensors = {\n",
    "    \"x1\": 1,\n",
    "    \"y1\": 0.5,\n",
    "    \"x2\": 2.25,\n",
    "    \"y2\": 0.5,\n",
    "    \"x3\": 3.5,\n",
    "    \"y3\": 0.5,\n",
    "    \"x4\": 1,\n",
    "    \"y4\": 1.5,\n",
    "    \"x5\": 2.25,\n",
    "    \"y5\": 1.5,\n",
    "    \"x6\": 3.5,\n",
    "    \"y6\": 1.5,\n",
    "    \"x7\": 0.5,\n",
    "    \"y7\": 1,\n",
    "    \"x8\": 4,\n",
    "    \"y8\": 1,\n",
    "}\n",
    "\n",
    "sensors"
   ]
  },
  {
   "cell_type": "markdown",
   "id": "35b3380c6798cba0",
   "metadata": {},
   "source": [
    "Create geometry model"
   ]
  },
  {
   "cell_type": "code",
   "execution_count": null,
   "id": "ff2ccfbb7228bf5",
   "metadata": {
    "ExecuteTime": {
     "end_time": "2024-06-08T12:51:45.806665Z",
     "start_time": "2024-06-08T12:51:45.477817Z"
    }
   },
   "outputs": [],
   "source": [
    "# Clear model\n",
    "mapdl.clear()\n",
    "\n",
    "# Enter pre-processor\n",
    "mapdl.prep7()\n",
    "\n",
    "# Create a rectangular area or block volume by corner points\n",
    "mapdl.blc4(0, 0, Length_Inches, Height_Inches, 0)\n",
    "\n",
    "# Delete un-meshed areas\n",
    "mapdl.adele(\"all\")\n",
    "\n",
    "# Generate a fillet line between two intersecting lines\n",
    "mapdl.lfillt(1, 2, 0.2)\n",
    "mapdl.lfillt(2, 3, 0.2)\n",
    "mapdl.lfillt(3, 4, 0.2)\n",
    "mapdl.lfillt(4, 1, 0.2)\n",
    "\n",
    "# Compress the numbering of defined items\n",
    "mapdl.numcmp(\"area\")\n",
    "\n",
    "# Generate an area bounded by previously defined lines\n",
    "mapdl.al(\"all\")\n",
    "\n",
    "# Plot lines\n",
    "mapdl.lplot(vtk=False)"
   ]
  },
  {
   "cell_type": "code",
   "execution_count": null,
   "id": "41927d26-6103-473d-a7a1-c1cf23c6a2fe",
   "metadata": {
    "ExecuteTime": {
     "end_time": "2024-06-08T12:51:46.825552Z",
     "start_time": "2024-06-08T12:51:45.808195Z"
    }
   },
   "outputs": [],
   "source": [
    "# Define hard points by sensor coordinates\n",
    "for points in range(1, int((len(sensors) / 2) + 1)):\n",
    "    mapdl.hptcreate(\n",
    "        type_=\"area\",\n",
    "        entity=1,\n",
    "        nhp=\"\",\n",
    "        label=\"coord\",\n",
    "        val1=sensors[\"x\" + str(points)],\n",
    "        val2=sensors[\"y\" + str(points)],\n",
    "    )\n",
    "\n",
    "# Plot created area\n",
    "mapdl.aplot()"
   ]
  },
  {
   "cell_type": "markdown",
   "id": "576edc5c51273b6a",
   "metadata": {},
   "source": [
    "Create FEA model"
   ]
  },
  {
   "cell_type": "code",
   "execution_count": null,
   "id": "082b131b-5e73-457c-9d1c-248909f0f99d",
   "metadata": {
    "ExecuteTime": {
     "end_time": "2024-06-08T12:51:47.011005Z",
     "start_time": "2024-06-08T12:51:46.825552Z"
    }
   },
   "outputs": [],
   "source": [
    "# Set element type\n",
    "mapdl.et(1, 181)\n",
    "\n",
    "# Set material properties\n",
    "mapdl.mp(\"ex\", 1, 1e7)\n",
    "\n",
    "# Set section type (shell representation)\n",
    "mapdl.sectype(1, \"shell\")\n",
    "\n",
    "# Set shell thickness\n",
    "mapdl.secdata(0.1, 1)\n",
    "\n",
    "# Specify the element shape as 2D\n",
    "mapdl.mshape(1, \"2d\")\n",
    "\n",
    "# Specify the element size to be meshed onto areas\n",
    "mapdl.aesize(\"all\", 0.05)\n",
    "\n",
    "# Generate nodes and area elements within areas\n",
    "mapdl.amesh(\"all\")\n",
    "\n",
    "# Select all entities with a single command\n",
    "mapdl.allsel()\n",
    "\n",
    "# Select those nodes associated with the selected lines\n",
    "mapdl.nsll(\"u\", 1)\n",
    "\n",
    "# Select those nodes associated with the selected key points\n",
    "mapdl.nslk(\"u\")\n",
    "\n",
    "# Get node count\n",
    "node_count = int(mapdl.get_value(\"node\", 0, \"count\"))\n",
    "\n",
    "# Print node count\n",
    "print(f\"Node count: {node_count}\")"
   ]
  },
  {
   "cell_type": "code",
   "execution_count": null,
   "id": "521eeecc7313f5c1",
   "metadata": {
    "ExecuteTime": {
     "end_time": "2024-06-08T12:51:47.530643Z",
     "start_time": "2024-06-08T12:51:47.011005Z"
    }
   },
   "outputs": [],
   "source": [
    "# Plot mesh\n",
    "mapdl.eplot(vtk=True)"
   ]
  },
  {
   "cell_type": "code",
   "execution_count": null,
   "id": "13e700ee38c81557",
   "metadata": {
    "ExecuteTime": {
     "end_time": "2024-06-08T12:51:47.537670Z",
     "start_time": "2024-06-08T12:51:47.530643Z"
    }
   },
   "outputs": [],
   "source": [
    "# Get node coordinates\n",
    "nodes = mapdl.mesh.nodes\n",
    "\n",
    "nodes"
   ]
  },
  {
   "cell_type": "code",
   "execution_count": null,
   "id": "23590146-0a5c-4edf-9d40-d79c01da3177",
   "metadata": {
    "ExecuteTime": {
     "end_time": "2024-06-08T12:51:47.552035Z",
     "start_time": "2024-06-08T12:51:47.539202Z"
    }
   },
   "outputs": [],
   "source": [
    "# Set path to file\n",
    "result_path = r\"sources\\point_set.csv\"\n",
    "\n",
    "# Set path to save data\n",
    "save_path = os.path.join(os.path.dirname(os.getcwd()), result_path)\n",
    "\n",
    "# Write X,Y node coordinates to file\n",
    "with open(save_path, \"w\") as file:\n",
    "    for node in nodes:\n",
    "        file.write(str(node[0]) + \" , \" + str(node[1]) + \"\\n\")"
   ]
  },
  {
   "cell_type": "code",
   "execution_count": null,
   "id": "d5e9bbd4-9417-41f3-8382-c3b04df05c23",
   "metadata": {
    "ExecuteTime": {
     "end_time": "2024-06-08T12:51:50.755776Z",
     "start_time": "2024-06-08T12:51:47.552035Z"
    }
   },
   "outputs": [],
   "source": [
    "mapdl.exit()"
   ]
  }
 ],
 "metadata": {
  "kernelspec": {
   "display_name": "Python 3 (ipykernel)",
   "language": "python",
   "name": "python3"
  },
  "language_info": {
   "codemirror_mode": {
    "name": "ipython",
    "version": 3
   },
   "file_extension": ".py",
   "mimetype": "text/x-python",
   "name": "python",
   "nbconvert_exporter": "python",
   "pygments_lexer": "ipython3",
   "version": "3.8.6"
  }
 },
 "nbformat": 4,
 "nbformat_minor": 5
}
