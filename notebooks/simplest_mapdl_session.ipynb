{
 "cells": [
  {
   "cell_type": "markdown",
   "id": "f8798e6ac2ebf5b1",
   "metadata": {},
   "source": [
    "Imports"
   ]
  },
  {
   "cell_type": "code",
   "execution_count": null,
   "id": "80c0cf0a7b0843e4",
   "metadata": {
    "ExecuteTime": {
     "end_time": "2024-06-10T14:54:08.429702Z",
     "start_time": "2024-06-10T14:54:08.425690Z"
    }
   },
   "outputs": [],
   "source": [
    "from ansys.mapdl.core import launch_mapdl"
   ]
  },
  {
   "cell_type": "markdown",
   "id": "fd3170d13bc57348",
   "metadata": {},
   "source": [
    "Lounch PyMAPDL"
   ]
  },
  {
   "cell_type": "code",
   "execution_count": null,
   "id": "21efce4dc2a22adf",
   "metadata": {
    "ExecuteTime": {
     "end_time": "2024-06-10T14:54:35.002545Z",
     "start_time": "2024-06-10T14:54:08.451375Z"
    }
   },
   "outputs": [],
   "source": [
    "mapdl = launch_mapdl()"
   ]
  },
  {
   "cell_type": "code",
   "execution_count": null,
   "id": "51a8fb57b9193b7b",
   "metadata": {
    "ExecuteTime": {
     "end_time": "2024-06-10T14:56:20.395662Z",
     "start_time": "2024-06-10T14:54:36.233664Z"
    }
   },
   "outputs": [],
   "source": [
    "mapdl"
   ]
  },
  {
   "cell_type": "markdown",
   "id": "ae280cc7c69dd715",
   "metadata": {},
   "source": [
    "Stop PyMAPDL"
   ]
  },
  {
   "cell_type": "code",
   "execution_count": null,
   "id": "b6046bcf9ca8e78e",
   "metadata": {
    "ExecuteTime": {
     "end_time": "2024-06-10T14:52:41.571687Z",
     "start_time": "2024-06-10T14:52:38.543472Z"
    }
   },
   "outputs": [],
   "source": [
    "mapdl.exit()"
   ]
  }
 ],
 "metadata": {
  "kernelspec": {
   "display_name": "Python 3",
   "language": "python",
   "name": "python3"
  },
  "language_info": {
   "codemirror_mode": {
    "name": "ipython",
    "version": 2
   },
   "file_extension": ".py",
   "mimetype": "text/x-python",
   "name": "python",
   "nbconvert_exporter": "python",
   "pygments_lexer": "ipython2",
   "version": "2.7.6"
  }
 },
 "nbformat": 4,
 "nbformat_minor": 5
}
