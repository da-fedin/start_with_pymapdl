{
 "cells": [
  {
   "cell_type": "markdown",
   "id": "f8798e6ac2ebf5b1",
   "metadata": {},
   "source": [
    "Imports"
   ]
  },
  {
   "cell_type": "code",
   "execution_count": null,
   "id": "80c0cf0a7b0843e4",
   "metadata": {
    "ExecuteTime": {
     "end_time": "2024-06-02T15:11:54.013662Z",
     "start_time": "2024-06-02T15:11:54.005601Z"
    }
   },
   "outputs": [],
   "source": [
    "from ansys.mapdl.core import launch_mapdl"
   ]
  },
  {
   "cell_type": "markdown",
   "id": "fd3170d13bc57348",
   "metadata": {},
   "source": [
    "Lounch PyMAPDL"
   ]
  },
  {
   "cell_type": "code",
   "execution_count": null,
   "id": "21efce4dc2a22adf",
   "metadata": {
    "ExecuteTime": {
     "end_time": "2024-06-02T15:12:06.133192Z",
     "start_time": "2024-06-02T15:11:54.013662Z"
    }
   },
   "outputs": [],
   "source": [
    "mapdl = launch_mapdl()"
   ]
  },
  {
   "cell_type": "markdown",
   "id": "ae280cc7c69dd715",
   "metadata": {},
   "source": [
    "Stop PyMAPDL"
   ]
  },
  {
   "cell_type": "code",
   "execution_count": null,
   "id": "b6046bcf9ca8e78e",
   "metadata": {
    "ExecuteTime": {
     "end_time": "2024-06-02T15:12:08.314609Z",
     "start_time": "2024-06-02T15:12:06.133192Z"
    }
   },
   "outputs": [],
   "source": [
    "mapdl.exit()"
   ]
  }
 ],
 "metadata": {
  "kernelspec": {
   "display_name": "Python 3",
   "language": "python",
   "name": "python3"
  },
  "language_info": {
   "codemirror_mode": {
    "name": "ipython",
    "version": 2
   },
   "file_extension": ".py",
   "mimetype": "text/x-python",
   "name": "python",
   "nbconvert_exporter": "python",
   "pygments_lexer": "ipython2",
   "version": "2.7.6"
  }
 },
 "nbformat": 4,
 "nbformat_minor": 5
}
