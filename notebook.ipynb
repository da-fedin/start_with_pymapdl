{
 "cells": [
  {
   "metadata": {},
   "cell_type": "markdown",
   "source": "Imports",
   "id": "f8798e6ac2ebf5b1"
  },
  {
   "metadata": {
    "ExecuteTime": {
     "end_time": "2024-06-02T14:41:20.503479Z",
     "start_time": "2024-06-02T14:41:19.206728Z"
    }
   },
   "cell_type": "code",
   "source": [
    "from ansys.mapdl.core import launch_mapdl\n",
    "import os"
   ],
   "id": "80c0cf0a7b0843e4",
   "outputs": [],
   "execution_count": 1
  },
  {
   "metadata": {},
   "cell_type": "markdown",
   "source": "Lounch PyMAPDL",
   "id": "fd3170d13bc57348"
  },
  {
   "metadata": {
    "ExecuteTime": {
     "end_time": "2024-06-02T14:41:38.831821Z",
     "start_time": "2024-06-02T14:41:20.503479Z"
    }
   },
   "cell_type": "code",
   "source": "mapdl = launch_mapdl()",
   "id": "21efce4dc2a22adf",
   "outputs": [],
   "execution_count": 2
  },
  {
   "metadata": {},
   "cell_type": "markdown",
   "source": "Stop PyMAPDL",
   "id": "ae280cc7c69dd715"
  },
  {
   "metadata": {
    "ExecuteTime": {
     "end_time": "2024-06-02T14:41:41.047836Z",
     "start_time": "2024-06-02T14:41:38.831821Z"
    }
   },
   "cell_type": "code",
   "source": "mapdl.exit()",
   "id": "b6046bcf9ca8e78e",
   "outputs": [],
   "execution_count": 3
  }
 ],
 "metadata": {
  "kernelspec": {
   "display_name": "Python 3",
   "language": "python",
   "name": "python3"
  },
  "language_info": {
   "codemirror_mode": {
    "name": "ipython",
    "version": 2
   },
   "file_extension": ".py",
   "mimetype": "text/x-python",
   "name": "python",
   "nbconvert_exporter": "python",
   "pygments_lexer": "ipython2",
   "version": "2.7.6"
  }
 },
 "nbformat": 4,
 "nbformat_minor": 5
}
